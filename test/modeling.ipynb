{
 "cells": [
  {
   "cell_type": "code",
   "execution_count": null,
   "metadata": {},
   "outputs": [],
   "source": [
    "import pandas as pd\n",
    "import pytz\n",
    "from datetime import date, datetime, timedelta\n",
    "import test_config\n",
    "from sklearn.linear_model import ElasticNet\n",
    "from lightgbm import LGBMRegressor\n",
    "\n",
    "from src.coinmarketcap import CoinMarketCapClient\n",
    "from src.bithumb import BithumbClient\n",
    "from src.ctrend_feature import CTRENDFeatureMaker\n",
    "from src.connection.bigquery import BigQueryConn\n",
    "from src.ctrend_model import CTRENDAllocator\n",
    "\n",
    "args = {\n",
    "    'train_size': 365*2,\n",
    "    'inference_date': date.today() - timedelta(days=1),\n",
    "    'except_cryptos': ('KRW-BTC'),\n",
    "}\n",
    "obj = CTRENDAllocator(**args)\n",
    "obj.run()"
   ]
  },
  {
   "cell_type": "code",
   "execution_count": 3,
   "metadata": {},
   "outputs": [
    {
     "name": "stderr",
     "output_type": "stream",
     "text": [
      "2024-11-13 20:53:57,688 - src.config.helper - INFO - EXECUTE: BithumbClient.get_crypto_markets\n",
      "2024-11-13 20:53:57,819 - src.config.helper - INFO - EXECUTE: BithumbClient.get_account_info\n",
      "/Users/choi/miniconda3/envs/venv_crypto/lib/python3.9/site-packages/google/cloud/bigquery/table.py:1727: UserWarning: BigQuery Storage module not found, fetch data with the REST endpoint instead.\n",
      "  warnings.warn(\n"
     ]
    },
    {
     "name": "stdout",
     "output_type": "stream",
     "text": [
      "[BigQuery] job ID(elapsed_time: 9.19 sec.): a104a968-eb75-47b5-bb96-d2e49ce49ff9\n"
     ]
    },
    {
     "name": "stderr",
     "output_type": "stream",
     "text": [
      "/Users/choi/miniconda3/envs/venv_crypto/lib/python3.9/site-packages/google/cloud/bigquery/table.py:1727: UserWarning: BigQuery Storage module not found, fetch data with the REST endpoint instead.\n",
      "  warnings.warn(\n"
     ]
    },
    {
     "name": "stdout",
     "output_type": "stream",
     "text": [
      "[BigQuery] job ID(elapsed_time: 1.73 sec.): c80cc69d-c44e-44ac-9c51-6b25f308d16a\n",
      "[LightGBM] [Info] Auto-choosing row-wise multi-threading, the overhead of testing was 0.001630 seconds.\n",
      "You can set `force_row_wise=true` to remove the overhead.\n",
      "And if memory is not enough, you can set `force_col_wise=true`.\n",
      "[LightGBM] [Info] Total Bins 7140\n",
      "[LightGBM] [Info] Number of data points in the train set: 78607, number of used features: 28\n",
      "[LightGBM] [Info] Start training from score 0.971946\n",
      "SELL(ask) market(시장가) KRW-EOS 33.35472827\n",
      "SELL(ask) market(시장가) KRW-AERGO 167.20430107\n",
      "SELL(ask) market(시장가) KRW-AAVE 0.09891576\n",
      "SELL(ask) market(시장가) KRW-XEC 471014.49275362\n",
      "SELL(ask) market(시장가) KRW-SOL 0.08568135\n",
      "WAIT 10sec. FOR SELLING SETTLEMENT\n"
     ]
    },
    {
     "name": "stderr",
     "output_type": "stream",
     "text": [
      "2024-11-13 20:54:21,372 - src.config.helper - INFO - EXECUTE: BithumbClient.get_account_info\n"
     ]
    },
    {
     "name": "stdout",
     "output_type": "stream",
     "text": [
      "BUY(bid) price(시장가) KRW-ADP 23000\n",
      "BUY(bid) price(시장가) KRW-ALGO 23000\n",
      "BUY(bid) price(시장가) KRW-APM 23000\n",
      "BUY(bid) price(시장가) KRW-ATOM 23000\n",
      "BUY(bid) price(시장가) KRW-BAL 23000\n",
      "BUY(bid) price(시장가) KRW-BLY 23000\n",
      "BUY(bid) price(시장가) KRW-BOA 23000\n",
      "BUY(bid) price(시장가) KRW-CTC 23000\n",
      "BUY(bid) price(시장가) KRW-DOT 23000\n",
      "BUY(bid) price(시장가) KRW-DVI 23000\n",
      "BUY(bid) price(시장가) KRW-EGG 23000\n",
      "BUY(bid) price(시장가) KRW-ETH 23000\n",
      "BUY(bid) price(시장가) KRW-FANC 23000\n",
      "BUY(bid) price(시장가) KRW-IOST 23000\n",
      "BUY(bid) price(시장가) KRW-LBL 23000\n",
      "BUY(bid) price(시장가) KRW-LM 23000\n",
      "BUY(bid) price(시장가) KRW-MBX 23000\n",
      "BUY(bid) price(시장가) KRW-MED 23000\n",
      "BUY(bid) price(시장가) KRW-MEV 23000\n",
      "BUY(bid) price(시장가) KRW-NPT 23000\n",
      "BUY(bid) price(시장가) KRW-ORBS 23000\n",
      "BUY(bid) price(시장가) KRW-QTCON 23000\n",
      "BUY(bid) price(시장가) KRW-REQ 23000\n",
      "BUY(bid) price(시장가) KRW-RLC 23000\n",
      "BUY(bid) price(시장가) KRW-SHIB 23000\n",
      "BUY(bid) price(시장가) KRW-SNT 23000\n",
      "BUY(bid) price(시장가) KRW-THETA 23000\n",
      "BUY(bid) price(시장가) KRW-UOS 23000\n",
      "BUY(bid) price(시장가) KRW-VALOR 23000\n",
      "BUY(bid) price(시장가) KRW-VIX 23000\n",
      "BUY(bid) price(시장가) KRW-WIKEN 23000\n",
      "BUY(bid) price(시장가) KRW-XCN 23000\n",
      "BUY(bid) price(시장가) KRW-XRP 23000\n",
      "BUY(bid) price(시장가) KRW-YFI 23000\n",
      "BUY(bid) price(시장가) KRW-ZIL 23000\n"
     ]
    }
   ],
   "source": [
    "args = {\n",
    "    'train_size': 365*2,\n",
    "    'inference_date': date.today() - timedelta(days=1),\n",
    "    'except_cryptos': ('KRW-BTC'),\n",
    "}\n",
    "obj = CTRENDAllocator(**args)\n",
    "obj.run()"
   ]
  },
  {
   "cell_type": "code",
   "execution_count": null,
   "metadata": {},
   "outputs": [],
   "source": []
  }
 ],
 "metadata": {
  "kernelspec": {
   "display_name": "venv_crypto",
   "language": "python",
   "name": "python3"
  },
  "language_info": {
   "codemirror_mode": {
    "name": "ipython",
    "version": 3
   },
   "file_extension": ".py",
   "mimetype": "text/x-python",
   "name": "python",
   "nbconvert_exporter": "python",
   "pygments_lexer": "ipython3",
   "version": "3.9.20"
  }
 },
 "nbformat": 4,
 "nbformat_minor": 2
}
